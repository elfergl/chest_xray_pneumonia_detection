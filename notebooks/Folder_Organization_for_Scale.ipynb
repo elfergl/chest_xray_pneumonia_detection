{
  "nbformat": 4,
  "nbformat_minor": 0,
  "metadata": {
    "colab": {
      "provenance": []
    },
    "kernelspec": {
      "name": "python3",
      "display_name": "Python 3"
    },
    "language_info": {
      "name": "python"
    }
  },
  "cells": [
    {
      "cell_type": "code",
      "execution_count": 2,
      "metadata": {
        "colab": {
          "base_uri": "https://localhost:8080/"
        },
        "id": "s6LazijkIckx",
        "outputId": "a90e4b94-aedb-480a-fc58-cd7473e1118a"
      },
      "outputs": [
        {
          "output_type": "stream",
          "name": "stdout",
          "text": [
            "Mounted at /content/drive\n"
          ]
        }
      ],
      "source": [
        "from google.colab import drive\n",
        "drive.mount('/content/drive')"
      ]
    },
    {
      "cell_type": "code",
      "source": [
        "#Import Libraries and Setup\n",
        "import shutil\n",
        "import os\n",
        "import time\n",
        "import random"
      ],
      "metadata": {
        "id": "nZkWACu1I5OT"
      },
      "execution_count": 15,
      "outputs": []
    },
    {
      "cell_type": "code",
      "source": [
        "#Paths\n",
        "csv_path = '/content/drive/MyDrive/MLProjects/pneumonia-detection/metadata/Data_Entry_2017.csv'\n",
        "source_dir = '/content/drive/MyDrive/MLProjects/pneumonia-detection/data/pneumonia_single'\n",
        "target_dir = '/content/drive/MyDrive/MLProjects/pneumonia-detection/data/pneumonia_scaled'\n",
        "\n",
        "#Create target folders\n",
        "os.makedirs(os.path.join(target_dir, 'PNEUMONIA'), exist_ok=True)\n",
        "os.makedirs(os.path.join(target_dir, 'NORMAL'), exist_ok=True)\n",
        "\n",
        "#Load metadata\n",
        "df = pd.read_csv(csv_path)\n",
        "\n",
        "#Identify PNEUMONIA and NORMAL images\n",
        "pneumonia_imgs = df[df['Finding Labels'].str.contains(\"Pneumonia\")]['Image Index'].tolist()\n",
        "normal_imgs = df[df['Finding Labels'] == 'No Finding']['Image Index'].tolist()\n",
        "\n",
        "#Random sample 15,000 normal images\n",
        "random.seed(42)\n",
        "normal_imgs_sampled = random.sample(normal_imgs, 15000)\n",
        "\n",
        "#Copy images one by one with 1 second pause for every 100 to reduce the risk of Google Drive timeout errors\n",
        "def slow_copy(img_list, src_folder, dest_folder, pause_every=100, sleep_time=1):\n",
        "    for i, img_name in enumerate(img_list):\n",
        "        src_path = os.path.join(src_folder, img_name)\n",
        "        dest_path = os.path.join(dest_folder, img_name)\n",
        "\n",
        "        if os.path.exists(src_path):\n",
        "            shutil.copy(src_path, dest_path)\n",
        "\n",
        "        if i % pause_every == 0 and i > 0:\n",
        "            print(f\"Copied {i} images, pausing for {sleep_time}s\")\n",
        "            time.sleep(sleep_time)\n",
        "\n",
        "    print(f\" Finished copying {len(img_list)} images to {dest_folder}\")"
      ],
      "metadata": {
        "id": "HwqXzua6VvjL"
      },
      "execution_count": 8,
      "outputs": []
    },
    {
      "cell_type": "code",
      "source": [
        "# Copy pneumonia images\n",
        "slow_copy(pneumonia_imgs, source_dir, os.path.join(target_dir, 'PNEUMONIA'))\n",
        "\n",
        "# Copy 15,000 normal images\n",
        "slow_copy(normal_imgs_sampled, source_dir, os.path.join(target_dir, 'NORMAL'))"
      ],
      "metadata": {
        "id": "p2dNeNEEXJwt"
      },
      "execution_count": null,
      "outputs": []
    },
    {
      "cell_type": "code",
      "source": [
        "pneumonia_path = '/content/drive/MyDrive/MLProjects/pneumonia-detection/data/pneumonia_scaled/PNEUMONIA'\n",
        "normal_path = '/content/drive/MyDrive/MLProjects/pneumonia-detection/data/pneumonia_scaled/NORMAL'\n",
        "\n",
        "# Count pneumonia image files\n",
        "image_files = [f for f in os.listdir(pneumonia_path) if f.lower().endswith(('.jpg', '.jpeg', '.png'))]\n",
        "print(f\"Number of pneumonia images: {len(image_files)}\")\n",
        "\n",
        "image_files = [f for f in os.listdir(normal_path) if f.lower().endswith(('.jpg', '.jpeg', '.png'))]\n",
        "print(f\"Number of normal images: {len(image_files)}\")"
      ],
      "metadata": {
        "colab": {
          "base_uri": "https://localhost:8080/"
        },
        "id": "zyU4H50NYHlR",
        "outputId": "3bf299ba-f844-4edd-d929-8ddddc9000e4"
      },
      "execution_count": 11,
      "outputs": [
        {
          "output_type": "stream",
          "name": "stdout",
          "text": [
            "Number of pneumonia images: 1431\n",
            "Number of normal images: 15000\n"
          ]
        }
      ]
    },
    {
      "cell_type": "code",
      "source": [],
      "metadata": {
        "id": "L1kENW-7b1iD"
      },
      "execution_count": null,
      "outputs": []
    }
  ]
}