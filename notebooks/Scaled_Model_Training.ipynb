{
  "nbformat": 4,
  "nbformat_minor": 0,
  "metadata": {
    "colab": {
      "provenance": [],
      "gpuType": "T4"
    },
    "kernelspec": {
      "name": "python3",
      "display_name": "Python 3"
    },
    "language_info": {
      "name": "python"
    },
    "accelerator": "GPU"
  },
  "cells": [
    {
      "cell_type": "code",
      "execution_count": 14,
      "metadata": {
        "colab": {
          "base_uri": "https://localhost:8080/"
        },
        "id": "B5pOQ7s_fg-X",
        "outputId": "ea4848a4-f69e-47c0-ed29-fff10cbb0b4a"
      },
      "outputs": [
        {
          "output_type": "stream",
          "name": "stdout",
          "text": [
            "Drive already mounted at /content/drive; to attempt to forcibly remount, call drive.mount(\"/content/drive\", force_remount=True).\n"
          ]
        }
      ],
      "source": [
        "from google.colab import drive\n",
        "drive.mount('/content/drive')"
      ]
    },
    {
      "cell_type": "code",
      "source": [
        "#Import Libraries\n",
        "from tensorflow.keras.preprocessing.image import ImageDataGenerator #On-the-fly loading and augmentation\n",
        "from sklearn.utils.class_weight import compute_class_weight\n",
        "from collections import Counter\n",
        "import numpy as np\n",
        "from tensorflow.keras.applications import VGG16\n",
        "from tensorflow.keras.models import Model\n",
        "from tensorflow.keras.layers import GlobalAveragePooling2D, Dropout, Dense\n",
        "from tensorflow.keras.optimizers import Adam\n",
        "from tensorflow.keras.callbacks import EarlyStopping\n",
        "import matplotlib.pyplot as plt"
      ],
      "metadata": {
        "id": "zKfG6ljygWRh"
      },
      "execution_count": 22,
      "outputs": []
    },
    {
      "cell_type": "code",
      "source": [
        "#Move images into colab env for speed\n",
        "!cp -r '/content/drive/MyDrive/MLProjects/pneumonia-detection/data/pneumonia_scaled' /content/data/"
      ],
      "metadata": {
        "id": "5eYhESPVtlr_"
      },
      "execution_count": null,
      "outputs": []
    },
    {
      "cell_type": "code",
      "source": [
        "#Load dataset\n",
        "data_dir = '/content/data/'\n",
        "\n",
        "train_datagen = ImageDataGenerator(\n",
        "    #Normalizes pixel values:\n",
        "    rescale=1./255,\n",
        "    validation_split=0.2,\n",
        "    #Help model to generalize:\n",
        "    rotation_range=15,\n",
        "    zoom_range=0.1,\n",
        "    horizontal_flip=True\n",
        "\n",
        ")\n",
        "\n",
        "train_data = train_datagen.flow_from_directory(\n",
        "    data_dir,\n",
        "    #Resizes images to 224 x 224:\n",
        "    target_size=(224,224),\n",
        "    batch_size=32,\n",
        "    class_mode='binary',\n",
        "    subset='training',\n",
        "    shuffle=True\n",
        ")\n",
        "\n",
        "val_data = train_datagen.flow_from_directory(\n",
        "    data_dir,\n",
        "    target_size=(224,224),\n",
        "    batch_size=32,\n",
        "    class_mode='binary',\n",
        "    subset='validation',\n",
        "    shuffle=True\n",
        ")"
      ],
      "metadata": {
        "colab": {
          "base_uri": "https://localhost:8080/"
        },
        "id": "cK6zl9cOgWXP",
        "outputId": "7bb33d86-7e7b-4d32-a12e-a990266217cc"
      },
      "execution_count": null,
      "outputs": [
        {
          "output_type": "stream",
          "name": "stdout",
          "text": [
            "Found 13145 images belonging to 2 classes.\n",
            "Found 13145 images belonging to 2 classes.\n"
          ]
        }
      ]
    },
    {
      "cell_type": "code",
      "source": [
        "#Handle Imbalance by calculating the class weights\n",
        "counter = Counter(train_data.classes)\n",
        "labels = [label for label in train_data.classes]\n",
        "weights = compute_class_weight(class_weight='balanced', classes=np.unique(labels), y=labels)\n",
        "class_weights = {i: w for i, w in enumerate(weights)}\n",
        "\n",
        "print('Class weights: ', class_weights)"
      ],
      "metadata": {
        "colab": {
          "base_uri": "https://localhost:8080/"
        },
        "id": "DF2qKB6igWNL",
        "outputId": "d3c5a3c8-e4ba-4b0f-d959-0250ee96aacc"
      },
      "execution_count": null,
      "outputs": [
        {
          "output_type": "stream",
          "name": "stdout",
          "text": [
            "Class weights:  {0: np.float64(0.5477083333333334), 1: np.float64(5.740174672489083)}\n"
          ]
        }
      ]
    },
    {
      "cell_type": "code",
      "source": [
        "#Build transfer learning model with VGG16\n",
        "base_model = VGG16(weights='imagenet', include_top=False, input_shape=(224, 224, 3))\n",
        "\n",
        "#Freeze base layers\n",
        "for layer in base_model.layers:\n",
        "  layer.trainable=False\n",
        "\n",
        "#Add custom classifier head\n",
        "x = base_model.output\n",
        "x = GlobalAveragePooling2D()(x)\n",
        "x = Dropout(0.5)(x)\n",
        "output = Dense(1, activation='sigmoid')(x)\n",
        "\n",
        "model = Model(inputs=base_model.input, outputs=output)\n",
        "\n",
        "#Unfreeze the last 4 layers of VGG16\n",
        "for layer in base_model.layers[-4:]:\n",
        "    layer.trainable = True\n",
        "\n",
        "model.compile(optimizer=Adam(learning_rate=1e-5),\n",
        "              loss='binary_crossentropy',\n",
        "              metrics=['accuracy'])"
      ],
      "metadata": {
        "id": "O-QU9nrRgWHu"
      },
      "execution_count": 20,
      "outputs": []
    },
    {
      "cell_type": "code",
      "source": [
        "early_stop = EarlyStopping(\n",
        "    monitor='val_loss',       # Watch validation loss\n",
        "    patience=2,               # Stop after 2 epochs if no improvement\n",
        "    restore_best_weights=True  # Revert to the best weights seen during training\n",
        ")\n",
        "\n",
        "#Train the model\n",
        "history = model.fit(\n",
        "    train_data,\n",
        "    validation_data=val_data,\n",
        "    epochs=10,\n",
        "    class_weight=class_weights,\n",
        "    callbacks=[early_stop]\n",
        ")"
      ],
      "metadata": {
        "colab": {
          "base_uri": "https://localhost:8080/"
        },
        "id": "Kvzfd22qgV7n",
        "outputId": "03be87a5-20a0-4342-c573-29ee5975bb76"
      },
      "execution_count": 21,
      "outputs": [
        {
          "output_type": "stream",
          "name": "stdout",
          "text": [
            "Epoch 1/10\n",
            "\u001b[1m411/411\u001b[0m \u001b[32m━━━━━━━━━━━━━━━━━━━━\u001b[0m\u001b[37m\u001b[0m \u001b[1m691s\u001b[0m 2s/step - accuracy: 0.5948 - loss: 0.7810 - val_accuracy: 0.7223 - val_loss: 0.5918\n",
            "Epoch 2/10\n",
            "\u001b[1m411/411\u001b[0m \u001b[32m━━━━━━━━━━━━━━━━━━━━\u001b[0m\u001b[37m\u001b[0m \u001b[1m677s\u001b[0m 2s/step - accuracy: 0.6593 - loss: 0.6369 - val_accuracy: 0.7581 - val_loss: 0.5654\n",
            "Epoch 3/10\n",
            "\u001b[1m411/411\u001b[0m \u001b[32m━━━━━━━━━━━━━━━━━━━━\u001b[0m\u001b[37m\u001b[0m \u001b[1m685s\u001b[0m 2s/step - accuracy: 0.7214 - loss: 0.5870 - val_accuracy: 0.7651 - val_loss: 0.5458\n",
            "Epoch 4/10\n",
            "\u001b[1m411/411\u001b[0m \u001b[32m━━━━━━━━━━━━━━━━━━━━\u001b[0m\u001b[37m\u001b[0m \u001b[1m726s\u001b[0m 2s/step - accuracy: 0.7408 - loss: 0.5703 - val_accuracy: 0.6790 - val_loss: 0.6525\n",
            "Epoch 5/10\n",
            "\u001b[1m411/411\u001b[0m \u001b[32m━━━━━━━━━━━━━━━━━━━━\u001b[0m\u001b[37m\u001b[0m \u001b[1m682s\u001b[0m 2s/step - accuracy: 0.7269 - loss: 0.5592 - val_accuracy: 0.7582 - val_loss: 0.5465\n"
          ]
        }
      ]
    },
    {
      "cell_type": "code",
      "source": [
        "#Plot training curves\n",
        "plt.plot(history.history['accuracy'], label='Train Accuracy')\n",
        "plt.plot(history.history['val_accuracy'], label='Val Accuracy')\n",
        "plt.title('Accuracy Over Epochs')\n",
        "plt.legend()\n",
        "plt.show()"
      ],
      "metadata": {
        "colab": {
          "base_uri": "https://localhost:8080/",
          "height": 452
        },
        "id": "C2qPOdhK6kYJ",
        "outputId": "86e02094-e80e-43a8-af9b-15a6945ab345"
      },
      "execution_count": 23,
      "outputs": [
        {
          "output_type": "display_data",
          "data": {
            "text/plain": [
              "<Figure size 640x480 with 1 Axes>"
            ],
            "image/png": "[encoded data removed]"
          },
          "metadata": {}
        }
      ]
    },
    {
      "cell_type": "code",
      "source": [
        "model.save('/content/drive/MyDrive/chest_xray_scaled_model_final.h5')"
      ],
      "metadata": {
        "colab": {
          "base_uri": "https://localhost:8080/"
        },
        "id": "ErwOkydSIH63",
        "outputId": "d1d3e098-ad8e-4a09-ff37-b9ce96931081"
      },
      "execution_count": 24,
      "outputs": [
        {
          "output_type": "stream",
          "name": "stderr",
          "text": [
            "WARNING:absl:You are saving your model as an HDF5 file via `model.save()` or `keras.saving.save_model(model)`. This file format is considered legacy. We recommend using instead the native Keras format, e.g. `model.save('my_model.keras')` or `keras.saving.save_model(model, 'my_model.keras')`. \n"
          ]
        }
      ]
    },
    {
      "cell_type": "markdown",
      "source": [
        "## **Summary: Scaling the Pneumonia Detection Prototype**\n"
      ],
      "metadata": {
        "id": "bTOJze_AKyiH"
      }
    },
    {
      "cell_type": "markdown",
      "source": [
        "This notebook demonstrates that the pneumonia detection model can scale to large volumes of chest X-ray data and make trade-offs that support real-world deployment.\n",
        "\n",
        "### Dataset and Loading\n",
        "- NIH Chest X-ray dataset (16,431 images used: 15,000 normal, 1,431 pneumonia)\n",
        "- Loaded using ImageDataGenerator with real-time augmentation and disk streaming\n",
        "- 80/20 training-validation split\n",
        "- Batch size: 32, image size: 224×224\n",
        "\n",
        "### Class Imbalance Handling\n",
        "- Class ratio around 10:1 (normal:pneumonia)\n",
        "- Used class_weight with scikit-learn to address imbalance without oversampling\n",
        "\n",
        "### Model Architecture and Tools\n",
        "- Transfer learning with VGG16 (pretrained on ImageNet)\n",
        "- All base layers frozen; last 4 layers unfrozen for fine-tuning\n",
        "- Custom head is GlobalAveragePooling > Dropout(0.5) > Dense(1, sigmoid)\n",
        "- Optimizer: Adam with learning rate 1e-5\n",
        "- Loss: Binary crossentropy\n",
        "\n",
        "### Training Outcome\n",
        "- Trained for 5 epochs (with early stopping)\n",
        "- Best validation accuracy: 76.5%\n",
        "- Training accuracy: 72.7%\n",
        "- Validation loss: 0.5458\n",
        "\n",
        "\n",
        "### Key Trade-Offs\n",
        "| Decision Area | Choice Made | Reason |\n",
        "|---------------|-------------|--------|\n",
        "| Dataset size vs. speed | Used 16k images | Simulates large-scale real-world dataset |\n",
        "| Model size vs. flexibility | Fine-tuned top 4 layers only | Reduces training time; balances generalization |\n",
        "| Imbalance method | Used class_weight | Simpler and explainable vs. focal loss |\n",
        "| Data pipeline | Used ImageDataGenerator | Fast, memory-efficient, supports augmentation |\n"
      ],
      "metadata": {
        "id": "NbcGc_eRRpGy"
      }
    },
    {
      "cell_type": "code",
      "source": [],
      "metadata": {
        "id": "yA_ZKUYIT4Ga"
      },
      "execution_count": null,
      "outputs": []
    }
  ]
}