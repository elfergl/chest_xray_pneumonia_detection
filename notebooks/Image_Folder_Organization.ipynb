{
  "nbformat": 4,
  "nbformat_minor": 0,
  "metadata": {
    "colab": {
      "provenance": []
    },
    "kernelspec": {
      "name": "python3",
      "display_name": "Python 3"
    },
    "language_info": {
      "name": "python"
    }
  },
  "cells": [
    {
      "cell_type": "code",
      "execution_count": 6,
      "metadata": {
        "colab": {
          "base_uri": "https://localhost:8080/"
        },
        "id": "ah1WTWeIE_wM",
        "outputId": "f900560c-401c-4066-a909-5bcaeb9fddc2"
      },
      "outputs": [
        {
          "output_type": "stream",
          "name": "stdout",
          "text": [
            "Mounted at /content/drive\n",
            "Images copied into data/pneumonia_split/train|val|test folders.\n"
          ]
        }
      ],
      "source": [
        "##Organize images into folders\n",
        "\n",
        "from google.colab import drive\n",
        "drive.mount('/content/drive')\n",
        "\n",
        "import os\n",
        "import shutil\n",
        "import pandas as pd\n",
        "\n",
        "#Base paths\n",
        "project_dir = '/content/drive/MyDrive/MLProjects/pneumonia-detection'\n",
        "subset_dir = os.path.join(project_dir, 'data/pneumonia_subset')\n",
        "split_dir = os.path.join(project_dir, 'data/pneumonia_split')\n",
        "metadata_dir = os.path.join(project_dir, 'metadata')\n",
        "\n",
        "#Load CSVs\n",
        "df_train = pd.read_csv(os.path.join(metadata_dir, 'train_labels.csv'))\n",
        "df_val = pd.read_csv(os.path.join(metadata_dir, 'val_labels.csv'))\n",
        "df_test = pd.read_csv(os.path.join(metadata_dir, 'test_labels.csv'))\n",
        "\n",
        "splits = {\n",
        "    'train': df_train,\n",
        "    'val': df_val,\n",
        "    'test': df_test\n",
        "}\n",
        "\n",
        "#Create split folders and copy images\n",
        "for split_name, df_split in splits.items():\n",
        "    for label in [0, 1]:\n",
        "        split_folder = os.path.join(split_dir, split_name, str(label))\n",
        "        os.makedirs(split_folder, exist_ok=True)\n",
        "\n",
        "        for fname in df_split[df_split['label'] == label]['Image Index']:\n",
        "            src = os.path.join(subset_dir, fname)\n",
        "            dst = os.path.join(split_folder, fname)\n",
        "            if os.path.exists(src):\n",
        "                shutil.copy(src, dst)\n",
        "\n",
        "print(\"Images copied into data/pneumonia_split/train|val|test folders.\")\n"
      ]
    },
    {
      "cell_type": "code",
      "source": [],
      "metadata": {
        "id": "bF4bQLmZFwrR"
      },
      "execution_count": null,
      "outputs": []
    },
    {
      "cell_type": "code",
      "source": [],
      "metadata": {
        "id": "0ahKmocXIbbK"
      },
      "execution_count": null,
      "outputs": []
    }
  ]
}